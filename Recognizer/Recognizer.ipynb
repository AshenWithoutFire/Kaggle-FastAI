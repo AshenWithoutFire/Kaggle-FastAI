{
 "cells": [
  {
   "cell_type": "code",
   "execution_count": 1,
   "id": "2f3724f8",
   "metadata": {},
   "outputs": [],
   "source": [
    "from sklearn.model_selection import train_test_split\n",
    "from sklearn import metrics\n",
    "from sklearn.ensemble import RandomForestClassifier\n",
    "from xgboost.sklearn import XGBClassifier\n",
    "import xgboost as xgb\n",
    "import pandas as pd\n",
    "import numpy as np\n",
    "from PIL import Image\n",
    "from fastai.vision.all import *\n",
    "from fastai.tabular.all import *\n",
    "import copy\n",
    "import time\n",
    "import os\n",
    "import threading\n",
    "pd.set_option('display.max_columns', 10)\n",
    "torch.multiprocessing.set_sharing_strategy('file_system')"
   ]
  },
  {
   "cell_type": "code",
   "execution_count": 2,
   "id": "d78d011f",
   "metadata": {},
   "outputs": [],
   "source": [
    "path = URLs.path('digit-recognizer')\n",
    "train_path = path/'train.csv'\n",
    "test_path = path/'test.csv'\n",
    "\n",
    "train_df = pd.read_csv(train_path, low_memory=False,skipinitialspace=True)\n",
    "test_df = pd.read_csv(test_path, low_memory=False,skipinitialspace=True)"
   ]
  },
  {
   "cell_type": "code",
   "execution_count": 3,
   "id": "779768a9",
   "metadata": {},
   "outputs": [
    {
     "data": {
      "text/html": [
       "<div>\n",
       "<style scoped>\n",
       "    .dataframe tbody tr th:only-of-type {\n",
       "        vertical-align: middle;\n",
       "    }\n",
       "\n",
       "    .dataframe tbody tr th {\n",
       "        vertical-align: top;\n",
       "    }\n",
       "\n",
       "    .dataframe thead th {\n",
       "        text-align: right;\n",
       "    }\n",
       "</style>\n",
       "<table border=\"1\" class=\"dataframe\">\n",
       "  <thead>\n",
       "    <tr style=\"text-align: right;\">\n",
       "      <th></th>\n",
       "      <th>label</th>\n",
       "      <th>pixel0</th>\n",
       "      <th>pixel1</th>\n",
       "      <th>pixel2</th>\n",
       "      <th>pixel3</th>\n",
       "      <th>...</th>\n",
       "      <th>pixel779</th>\n",
       "      <th>pixel780</th>\n",
       "      <th>pixel781</th>\n",
       "      <th>pixel782</th>\n",
       "      <th>pixel783</th>\n",
       "    </tr>\n",
       "  </thead>\n",
       "  <tbody>\n",
       "    <tr>\n",
       "      <th>0</th>\n",
       "      <td>1</td>\n",
       "      <td>0</td>\n",
       "      <td>0</td>\n",
       "      <td>0</td>\n",
       "      <td>0</td>\n",
       "      <td>...</td>\n",
       "      <td>0</td>\n",
       "      <td>0</td>\n",
       "      <td>0</td>\n",
       "      <td>0</td>\n",
       "      <td>0</td>\n",
       "    </tr>\n",
       "    <tr>\n",
       "      <th>1</th>\n",
       "      <td>0</td>\n",
       "      <td>0</td>\n",
       "      <td>0</td>\n",
       "      <td>0</td>\n",
       "      <td>0</td>\n",
       "      <td>...</td>\n",
       "      <td>0</td>\n",
       "      <td>0</td>\n",
       "      <td>0</td>\n",
       "      <td>0</td>\n",
       "      <td>0</td>\n",
       "    </tr>\n",
       "    <tr>\n",
       "      <th>2</th>\n",
       "      <td>1</td>\n",
       "      <td>0</td>\n",
       "      <td>0</td>\n",
       "      <td>0</td>\n",
       "      <td>0</td>\n",
       "      <td>...</td>\n",
       "      <td>0</td>\n",
       "      <td>0</td>\n",
       "      <td>0</td>\n",
       "      <td>0</td>\n",
       "      <td>0</td>\n",
       "    </tr>\n",
       "    <tr>\n",
       "      <th>3</th>\n",
       "      <td>4</td>\n",
       "      <td>0</td>\n",
       "      <td>0</td>\n",
       "      <td>0</td>\n",
       "      <td>0</td>\n",
       "      <td>...</td>\n",
       "      <td>0</td>\n",
       "      <td>0</td>\n",
       "      <td>0</td>\n",
       "      <td>0</td>\n",
       "      <td>0</td>\n",
       "    </tr>\n",
       "    <tr>\n",
       "      <th>4</th>\n",
       "      <td>0</td>\n",
       "      <td>0</td>\n",
       "      <td>0</td>\n",
       "      <td>0</td>\n",
       "      <td>0</td>\n",
       "      <td>...</td>\n",
       "      <td>0</td>\n",
       "      <td>0</td>\n",
       "      <td>0</td>\n",
       "      <td>0</td>\n",
       "      <td>0</td>\n",
       "    </tr>\n",
       "  </tbody>\n",
       "</table>\n",
       "<p>5 rows × 785 columns</p>\n",
       "</div>"
      ],
      "text/plain": [
       "   label  pixel0  pixel1  pixel2  pixel3  ...  pixel779  pixel780  pixel781  \\\n",
       "0      1       0       0       0       0  ...         0         0         0   \n",
       "1      0       0       0       0       0  ...         0         0         0   \n",
       "2      1       0       0       0       0  ...         0         0         0   \n",
       "3      4       0       0       0       0  ...         0         0         0   \n",
       "4      0       0       0       0       0  ...         0         0         0   \n",
       "\n",
       "   pixel782  pixel783  \n",
       "0         0         0  \n",
       "1         0         0  \n",
       "2         0         0  \n",
       "3         0         0  \n",
       "4         0         0  \n",
       "\n",
       "[5 rows x 785 columns]"
      ]
     },
     "execution_count": 3,
     "metadata": {},
     "output_type": "execute_result"
    }
   ],
   "source": [
    "train_df.head()"
   ]
  },
  {
   "cell_type": "code",
   "execution_count": 4,
   "id": "551a47fc",
   "metadata": {},
   "outputs": [],
   "source": [
    "images = path/'images'\n",
    "train_image_folder = images/'train'\n",
    "test_image_folder = images/'test'\n",
    "m_train = train_df.shape[0]\n",
    "n_train = train_df.shape[1]\n",
    "m_test = test_df.shape[0]\n",
    "n_test = test_df.shape[1]\n",
    "\n",
    "if not os.path.exists(train_image_folder) and not os.path.exists(test_image_folder):\n",
    "    os.makedirs(train_image_folder)\n",
    "    os.makedirs(test_image_folder)\n",
    "    for i in range(0,m_train):\n",
    "        matrix = train_df.to_numpy()[i,1:].reshape((28,28))\n",
    "        img = Image.fromarray((np.uint8(matrix)))\n",
    "        #img = img.convert('RGB')\n",
    "        if not os.path.exists(train_image_folder/str(train_df.iloc[i,0])):\n",
    "            os.mkdir(train_image_folder/str(train_df.iloc[i,0]))\n",
    "        train_image_name = str(i)\n",
    "        img.save(train_image_folder/str(train_df.iloc[i,0])/(train_image_name+\".png\"))\n",
    "    for j in range(0,m_test):\n",
    "        matrix = test_df.to_numpy()[j,:].reshape((28,28))\n",
    "        img = Image.fromarray((np.uint8(matrix)))\n",
    "        text_image_name = str(j)\n",
    "        img.save(test_image_folder/(text_image_name+\".png\"))\n",
    "         \n",
    "         \n",
    "         \n",
    "         \n",
    "         \n",
    "        "
   ]
  },
  {
   "cell_type": "code",
   "execution_count": 5,
   "id": "b90700f8",
   "metadata": {},
   "outputs": [
    {
     "name": "stdout",
     "output_type": "stream",
     "text": [
      "Due to IPython and Windows limitation, python multiprocessing isn't available now.\n",
      "So `number_workers` is changed to 0 to avoid getting stuck\n"
     ]
    },
    {
     "name": "stderr",
     "output_type": "stream",
     "text": [
      "Downloading: \"https://download.pytorch.org/models/resnet152-b121ed2d.pth\" to C:\\Users\\qq582/.cache\\torch\\hub\\checkpoints\\resnet152-b121ed2d.pth\n"
     ]
    },
    {
     "data": {
      "application/vnd.jupyter.widget-view+json": {
       "model_id": "420a3e2288c04f17abf76e2e57bbeace",
       "version_major": 2,
       "version_minor": 0
      },
      "text/plain": [
       "  0%|          | 0.00/230M [00:00<?, ?B/s]"
      ]
     },
     "metadata": {},
     "output_type": "display_data"
    },
    {
     "data": {
      "text/html": [],
      "text/plain": [
       "<IPython.core.display.HTML object>"
      ]
     },
     "metadata": {},
     "output_type": "display_data"
    },
    {
     "data": {
      "text/html": [
       "<table border=\"1\" class=\"dataframe\">\n",
       "  <thead>\n",
       "    <tr style=\"text-align: left;\">\n",
       "      <th>epoch</th>\n",
       "      <th>train_loss</th>\n",
       "      <th>valid_loss</th>\n",
       "      <th>time</th>\n",
       "    </tr>\n",
       "  </thead>\n",
       "  <tbody>\n",
       "    <tr>\n",
       "      <td>0</td>\n",
       "      <td>0.740562</td>\n",
       "      <td>0.632950</td>\n",
       "      <td>01:17</td>\n",
       "    </tr>\n",
       "  </tbody>\n",
       "</table>"
      ],
      "text/plain": [
       "<IPython.core.display.HTML object>"
      ]
     },
     "metadata": {},
     "output_type": "display_data"
    },
    {
     "data": {
      "text/html": [
       "<table border=\"1\" class=\"dataframe\">\n",
       "  <thead>\n",
       "    <tr style=\"text-align: left;\">\n",
       "      <th>epoch</th>\n",
       "      <th>train_loss</th>\n",
       "      <th>valid_loss</th>\n",
       "      <th>time</th>\n",
       "    </tr>\n",
       "  </thead>\n",
       "  <tbody>\n",
       "    <tr>\n",
       "      <td>0</td>\n",
       "      <td>0.196527</td>\n",
       "      <td>0.122694</td>\n",
       "      <td>01:38</td>\n",
       "    </tr>\n",
       "    <tr>\n",
       "      <td>1</td>\n",
       "      <td>0.105348</td>\n",
       "      <td>0.069224</td>\n",
       "      <td>01:37</td>\n",
       "    </tr>\n",
       "    <tr>\n",
       "      <td>2</td>\n",
       "      <td>0.086998</td>\n",
       "      <td>0.045488</td>\n",
       "      <td>01:37</td>\n",
       "    </tr>\n",
       "    <tr>\n",
       "      <td>3</td>\n",
       "      <td>0.047238</td>\n",
       "      <td>0.045351</td>\n",
       "      <td>01:42</td>\n",
       "    </tr>\n",
       "    <tr>\n",
       "      <td>4</td>\n",
       "      <td>0.036259</td>\n",
       "      <td>0.042578</td>\n",
       "      <td>02:15</td>\n",
       "    </tr>\n",
       "    <tr>\n",
       "      <td>5</td>\n",
       "      <td>0.020402</td>\n",
       "      <td>0.034193</td>\n",
       "      <td>01:37</td>\n",
       "    </tr>\n",
       "    <tr>\n",
       "      <td>6</td>\n",
       "      <td>0.014485</td>\n",
       "      <td>0.032703</td>\n",
       "      <td>01:37</td>\n",
       "    </tr>\n",
       "    <tr>\n",
       "      <td>7</td>\n",
       "      <td>0.003617</td>\n",
       "      <td>0.025697</td>\n",
       "      <td>01:38</td>\n",
       "    </tr>\n",
       "    <tr>\n",
       "      <td>8</td>\n",
       "      <td>0.002235</td>\n",
       "      <td>0.024328</td>\n",
       "      <td>01:37</td>\n",
       "    </tr>\n",
       "    <tr>\n",
       "      <td>9</td>\n",
       "      <td>0.001495</td>\n",
       "      <td>0.024647</td>\n",
       "      <td>01:37</td>\n",
       "    </tr>\n",
       "  </tbody>\n",
       "</table>"
      ],
      "text/plain": [
       "<IPython.core.display.HTML object>"
      ]
     },
     "metadata": {},
     "output_type": "display_data"
    },
    {
     "data": {
      "image/png": "[encoded data removed]",
      "text/plain": [
       "<Figure size 432x288 with 1 Axes>"
      ]
     },
     "metadata": {
      "needs_background": "light"
     },
     "output_type": "display_data"
    }
   ],
   "source": [
    "#dls = ImageDataLoaders.from_df(train_df,train_image_folder,item_tfms=Resize(28))\n",
    "dls = ImageDataLoaders.from_folder(train_image_folder,valid_pct=0.2,seed=1024)\n",
    "learn = cnn_learner(dls,models.resnet152) \n",
    "learn.lr_find()\n",
    "learn.fine_tune(10)\n"
   ]
  },
  {
   "cell_type": "code",
   "execution_count": 6,
   "id": "1963f69c",
   "metadata": {},
   "outputs": [],
   "source": [
    "test_paths = []\n",
    "for i in range(0,28000):\n",
    "    test_paths.append(Path(test_image_folder/(str(i)+'.png')))\n"
   ]
  },
  {
   "cell_type": "code",
   "execution_count": 7,
   "id": "0d2c8797",
   "metadata": {},
   "outputs": [
    {
     "data": {
      "text/html": [],
      "text/plain": [
       "<IPython.core.display.HTML object>"
      ]
     },
     "metadata": {},
     "output_type": "display_data"
    },
    {
     "data": {
      "text/plain": [
       "(tensor([[4.2992e-08, 1.2377e-09, 1.0000e+00,  ..., 8.9454e-08, 1.0937e-08,\n",
       "          2.2564e-08],\n",
       "         [9.9999e-01, 2.7768e-07, 2.6632e-07,  ..., 1.5077e-06, 7.5343e-07,\n",
       "          5.6342e-08],\n",
       "         [2.9672e-07, 1.3823e-08, 1.1405e-06,  ..., 2.9904e-07, 1.3069e-06,\n",
       "          1.0000e+00],\n",
       "         ...,\n",
       "         [4.4876e-10, 3.1235e-10, 3.5636e-09,  ..., 2.7611e-09, 4.3152e-09,\n",
       "          7.1953e-10],\n",
       "         [1.7376e-07, 7.5214e-09, 1.8646e-08,  ..., 4.2486e-08, 7.1598e-08,\n",
       "          1.0000e+00],\n",
       "         [1.1594e-08, 6.3180e-11, 1.0000e+00,  ..., 8.7920e-09, 2.4695e-09,\n",
       "          3.6171e-09]]),\n",
       " None)"
      ]
     },
     "execution_count": 7,
     "metadata": {},
     "output_type": "execute_result"
    }
   ],
   "source": [
    "dl = learn.dls.test_dl(test_paths)\n",
    "preds = learn.get_preds(dl = dl)\n",
    "preds   "
   ]
  },
  {
   "cell_type": "code",
   "execution_count": 8,
   "id": "393f3b86",
   "metadata": {},
   "outputs": [],
   "source": [
    "preds = preds[0].numpy().argmax(axis=1)"
   ]
  },
  {
   "cell_type": "code",
   "execution_count": 9,
   "id": "1836af2f",
   "metadata": {},
   "outputs": [],
   "source": [
    "df_result = pd.DataFrame()\n",
    "df_result['ImageId'] = range(1,28001)\n",
    "df_result['Label'] = preds\n",
    "df_result.head(20)\n",
    "df_result.to_csv('./res152fit10.csv',header=True,index=False)"
   ]
  },
  {
   "cell_type": "code",
   "execution_count": 10,
   "id": "11441049",
   "metadata": {},
   "outputs": [
    {
     "data": {
      "text/plain": [
       "'def pred_test(data_np,leaner,name):\\n    n_data_df = len(data_np)\\n    preds =[]\\n    for i in range(0,n_data_df):\\n        np_temp = np.uint8(data_np[i][:].reshape((28,28)))\\n        pre = leaner.predict(np_temp)\\n        pre = int(pre[0])\\n        preds.append(pre)\\n        print(name+\" \"+str(i)+\\' in \\'+str(n_data_df))\\n    return preds\\n    '"
      ]
     },
     "execution_count": 10,
     "metadata": {},
     "output_type": "execute_result"
    }
   ],
   "source": [
    "'''def pred_test(data_np,leaner,name):\n",
    "    n_data_df = len(data_np)\n",
    "    preds =[]\n",
    "    for i in range(0,n_data_df):\n",
    "        np_temp = np.uint8(data_np[i][:].reshape((28,28)))\n",
    "        pre = leaner.predict(np_temp)\n",
    "        pre = int(pre[0])\n",
    "        preds.append(pre)\n",
    "        print(name+\" \"+str(i)+' in '+str(n_data_df))\n",
    "    return preds\n",
    "    '''"
   ]
  },
  {
   "cell_type": "code",
   "execution_count": 11,
   "id": "bf491865",
   "metadata": {},
   "outputs": [
    {
     "data": {
      "text/plain": [
       "'class PredThread(threading.Thread):\\n    def __init__(self, func, args=()):  \\n        super(PredThread, self).__init__()  \\n        self.func = func  \\n        self.args = args\\n    def run(self):  \\n        self.result = self.func(*self.args)  # 在执行函数的同时，把结果赋值给result,  \\n        # 然后通过get_result函数获取返回的结果  \\n    def get_result(self):  \\n        try:  \\n            return self.result  \\n        except Exception as e:  \\n            return None  \\n            '"
      ]
     },
     "execution_count": 11,
     "metadata": {},
     "output_type": "execute_result"
    }
   ],
   "source": [
    "'''class PredThread(threading.Thread):\n",
    "    def __init__(self, func, args=()):  \n",
    "        super(PredThread, self).__init__()  \n",
    "        self.func = func  \n",
    "        self.args = args\n",
    "    def run(self):  \n",
    "        self.result = self.func(*self.args)  # 在执行函数的同时，把结果赋值给result,  \n",
    "        # 然后通过get_result函数获取返回的结果  \n",
    "    def get_result(self):  \n",
    "        try:  \n",
    "            return self.result  \n",
    "        except Exception as e:  \n",
    "            return None  \n",
    "            '''"
   ]
  },
  {
   "cell_type": "code",
   "execution_count": 12,
   "id": "5cc69fae",
   "metadata": {
    "scrolled": true
   },
   "outputs": [
    {
     "data": {
      "text/plain": [
       "\"start_time = time.time()\\nresult = []  \\nthreads = []\\n#learn.export()\\nfor i in range(16):  \\n    learn_temp = load_learner(train_image_folder/'export.pkl',cpu=False)\\n    #learn_temp = copy(learn)\\n    name = 'Thread'+str(i)\\n    t = PredThread(pred_test, args=(test_df.to_numpy()[int(m_test*i/16):int(m_test*(i+1)/16)][:],learn_temp,name))  \\n    t.start()  \\n    threads.append(t)  \\nfor t in threads:  \\n    t.join()  # 一定执行join,等待子进程执行结束，主进程再往下执行  \\n    result.append(t.get_result())  \\nprint(result) \\nend_time = time.time()\\nprint(end_time-start_time)\""
      ]
     },
     "execution_count": 12,
     "metadata": {},
     "output_type": "execute_result"
    }
   ],
   "source": [
    "'''start_time = time.time()\n",
    "result = []  \n",
    "threads = []\n",
    "#learn.export()\n",
    "for i in range(16):  \n",
    "    learn_temp = load_learner(train_image_folder/'export.pkl',cpu=False)\n",
    "    #learn_temp = copy(learn)\n",
    "    name = 'Thread'+str(i)\n",
    "    t = PredThread(pred_test, args=(test_df.to_numpy()[int(m_test*i/16):int(m_test*(i+1)/16)][:],learn_temp,name))  \n",
    "    t.start()  \n",
    "    threads.append(t)  \n",
    "for t in threads:  \n",
    "    t.join()  # 一定执行join,等待子进程执行结束，主进程再往下执行  \n",
    "    result.append(t.get_result())  \n",
    "print(result) \n",
    "end_time = time.time()\n",
    "print(end_time-start_time)'''"
   ]
  },
  {
   "cell_type": "code",
   "execution_count": 13,
   "id": "353f8970",
   "metadata": {},
   "outputs": [
    {
     "data": {
      "text/plain": [
       "\"start_time = time.time()\\npreds = []\\nfor i in range(0,m_test):\\n    np_temp = np.uint8(test_df.to_numpy()[i][:].reshape((28,28)))\\n    pre = learn.predict(np_temp)\\n    pre = int(pre[0])\\n    preds.append(pre)\\n    print(str(i)+' in 28000')\\npreds\\nend_time = time.time()\\nprint(end_time-start_time)\\n\""
      ]
     },
     "execution_count": 13,
     "metadata": {},
     "output_type": "execute_result"
    }
   ],
   "source": [
    "'''start_time = time.time()\n",
    "preds = []\n",
    "for i in range(0,m_test):\n",
    "    np_temp = np.uint8(test_df.to_numpy()[i][:].reshape((28,28)))\n",
    "    pre = learn.predict(np_temp)\n",
    "    pre = int(pre[0])\n",
    "    preds.append(pre)\n",
    "    print(str(i)+' in 28000')\n",
    "preds\n",
    "end_time = time.time()\n",
    "print(end_time-start_time)\n",
    "'''"
   ]
  }
 ],
 "metadata": {
  "kernelspec": {
   "display_name": "Python 3",
   "language": "python",
   "name": "python3"
  },
  "language_info": {
   "codemirror_mode": {
    "name": "ipython",
    "version": 3
   },
   "file_extension": ".py",
   "mimetype": "text/x-python",
   "name": "python",
   "nbconvert_exporter": "python",
   "pygments_lexer": "ipython3",
   "version": "3.8.5"
  },
  "varInspector": {
   "cols": {
    "lenName": 16,
    "lenType": 16,
    "lenVar": 40
   },
   "kernels_config": {
    "python": {
     "delete_cmd_postfix": "",
     "delete_cmd_prefix": "del ",
     "library": "var_list.py",
     "varRefreshCmd": "print(var_dic_list())"
    },
    "r": {
     "delete_cmd_postfix": ") ",
     "delete_cmd_prefix": "rm(",
     "library": "var_list.r",
     "varRefreshCmd": "cat(var_dic_list()) "
    }
   },
   "types_to_exclude": [
    "module",
    "function",
    "builtin_function_or_method",
    "instance",
    "_Feature"
   ],
   "window_display": false
  }
 },
 "nbformat": 4,
 "nbformat_minor": 5
}
